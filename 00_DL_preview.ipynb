{
 "cells": [
  {
   "cell_type": "markdown",
   "id": "57446e6d-b12a-4e6c-acd1-8e4da305c01f",
   "metadata": {},
   "source": [
    "# Deep Learning"
   ]
  },
  {
   "cell_type": "markdown",
   "id": "72c53b7c-40c8-4531-94d0-3e9406cbf731",
   "metadata": {},
   "source": [
    "- Artificial neural network(ANN) = Deep neural network(DNN) = Deep learning(DL)\n",
    "- 하나하나..곱셈 엄청 많이 일어남(합성곱) >> GPU필요(많은 연산 하려면!)"
   ]
  },
  {
   "cell_type": "markdown",
   "id": "57bb350e-da4b-4b30-a3f8-05ec335d2c35",
   "metadata": {},
   "source": [
    "- 이 '문제'를 잘 해결하기 위해서는 '어떤 방법', '어떤 모델'을 사용하는게 좋을까?? >> 모든게 다 이 질문에서 시작!!"
   ]
  },
  {
   "cell_type": "markdown",
   "id": "78bca955-eb3a-44d2-8b85-b6f5d4d7780f",
   "metadata": {},
   "source": [
    "- 정형데이터는 머신러닝 good\n",
    "- 비정형데이터는 딥러닝!\n",
    "- 이미지, 비디오, 텍스트 데이터 등.. 세상에 비정형데이터 많음! 머신러닝으로 해결하기 어려워 >> 그래서 딥러닝!!\n",
    "- 컴퓨터비전, 자연어 처리 + 추천시스템"
   ]
  },
  {
   "cell_type": "markdown",
   "id": "96fec020-26de-4952-aacd-95dc285c4b35",
   "metadata": {},
   "source": [
    "- GAN: 생성모델.. 위조지폐범..\n",
    "- 저작권이 없는 이미지.. 만들수 있음.. 이미지장사 할 수도 있음.. / 지금은 검색해서 쓰지만..흠\n",
    "- 딥러닝 가장 처음 나온게 2010년! 제대로된 연구는 16년에 시작함"
   ]
  },
  {
   "cell_type": "markdown",
   "id": "6682009e-edf7-468e-a070-4414f976e2b9",
   "metadata": {},
   "source": [
    "- 퍼셉트론: 뭔가들어가서 뭔가 나옴(ex. 맞으면 아파..'아')\n",
    "- 활성화 함수(인풋데이터, 가중치 받아서 이걸 어떻게 내보내줄지 결정해주는 함수.. 얘가 출력해주는건 다음 layer의 input이 됨. (입력~ 출력, 이거 하나가 퍼셉트론 하나임.)\n",
    "- 동그라미 하나가 퍼셉트론임!! 하나의 레이어의 여러 퍼셉트론이 있음.\n",
    "- ANN을 많은 층으로 깊게 쌓은 모델이 DNN = DL"
   ]
  },
  {
   "cell_type": "markdown",
   "id": "f9cf56fd-61bc-43cb-8a11-9b5694410285",
   "metadata": {},
   "source": [
    "활성화 함수\n",
    "- Relu: 0이하면 버리고, 이상이면 그대로"
   ]
  },
  {
   "cell_type": "markdown",
   "id": "e1ae1142-801c-4cc0-9735-94219a12f268",
   "metadata": {},
   "source": [
    "머신러닝vs딥러닝\n",
    "- feature engineering(데이터 전처리): 머신러닝은 이것때문에 시간이 오래걸림, 딥러닝은 이거x"
   ]
  },
  {
   "cell_type": "markdown",
   "id": "286b8dd8-26db-4a1d-ba02-7e2aff4ddd5a",
   "metadata": {},
   "source": [
    "- 딥러닝은 해석이 불가능하다.. 이런게 어렵다..(머신러닝은 딥러닝보다는 해석할 수 있는 여지가 더 o ex.importance__"
   ]
  },
  {
   "cell_type": "markdown",
   "id": "c2da40e8-1fed-4816-97ac-6c69dc44b862",
   "metadata": {},
   "source": [
    "Deep Learning Terms\n",
    "- backpropagation: weight가 싹바뀌고, 바뀌고..함!\n",
    "- optimizer: 히말라야 세르파 같은 역할.. cost가 가장 작은 지점으로 데리러 가는..cost function오르게 하는..흠.\n",
    "\n",
    "활성화 함수\n",
    "- sigmoid, leaky relu, relu, tanh 이 4개는 많이 쓰임!"
   ]
  },
  {
   "cell_type": "markdown",
   "id": "d05dedc9-f263-4990-a625-69ca3f95a762",
   "metadata": {},
   "source": [
    "Mini Gradient Descent\n",
    "- Gradient Descent 방식 중 이걸 제일 많이 활용함!"
   ]
  },
  {
   "cell_type": "markdown",
   "id": "f045fd61-d65f-41fc-94d5-2163bb149b87",
   "metadata": {},
   "source": [
    "Optimizer 종류\n",
    "- RMSProopo Optimizer, Adam Optimizer 를 제일 많이씀!\n",
    "- 그림 >> 속도, 얼마나 튀는지"
   ]
  },
  {
   "cell_type": "markdown",
   "id": "479431e3-2e4a-4732-bc76-c6d2aedddb45",
   "metadata": {},
   "source": [
    "Cost Function\n",
    "- 어떤 문제냐에 따라서 사용해야 할 cost function이 다름!\n",
    "- MSE, Binary Cross Entropy(0과 1로 분류), Categorical Cross Entropy(one-hot-vector), Sparse Categorical Crossentropy(integer) .... "
   ]
  },
  {
   "cell_type": "markdown",
   "id": "fec5a4af-cd6f-45dd-9459-24c94609dea6",
   "metadata": {},
   "source": [
    "요소들 바꿔보면서 어떻게 동작하는지 보기!\n",
    "- http://playground.tensorflow.org/#activation=tanh&batchSize=10&dataset=circle&regDataset=[…]se&problem=classification&initZero=false&hideText=false"
   ]
  },
  {
   "cell_type": "markdown",
   "id": "540e792a-3e30-42d4-9fc0-c562166ef02e",
   "metadata": {},
   "source": [
    "- 오차계산하고, 옵티마이저가 틀렸으니까 바꿔(weight) >> backpropagation (이전보다 덜 틀리는 방향으로 수정됨, 중요한건 더 중요하게 되겠지?!!)\n",
    "- batch로 나누는 이유? 속도향상?!?!(batch = 데이터를 한 뭉탱이로 묶는 것)(batch size 256 >> 256개 데이터를 묶는다) 비치개수 만큼이 가중치..붙는거!\n",
    "- epoch: 전체 데이터를 활용하여 학습하는 횟수"
   ]
  },
  {
   "cell_type": "markdown",
   "id": "2a2ac755-337e-40f5-a80d-e7d1b884354a",
   "metadata": {},
   "source": [
    "Overview PPT\n",
    "- 이 데이터들로 할 수 있는것\n",
    "- 지도학습, 회귀.. 보험료..흠.. >> 지도학습 regression"
   ]
  },
  {
   "cell_type": "markdown",
   "id": "c4d2150c-e4dc-4f17-879a-92fd2ec9ac39",
   "metadata": {},
   "source": [
    "- 데이터가 만개 정도면.. 딥러닝 쓰기 좋지 않을까.. >> 암튼 데이터가 많을수록 좋음!"
   ]
  },
  {
   "cell_type": "code",
   "execution_count": null,
   "id": "41ba8fc4-d48e-46b2-8e17-b8b6b7a60db7",
   "metadata": {},
   "outputs": [],
   "source": []
  },
  {
   "cell_type": "markdown",
   "id": "d390666a-ec9b-400c-8cdd-4e22137645f7",
   "metadata": {},
   "source": [
    "용어\n",
    "- backpropagation: 주로 업데이트 되는게 weight임!\n",
    "- optimizer: 오차를 내려가게 하는 방식도 굉장히 다양함! \n",
    "- layer중간에 많이 쓰는게 그 4개, 거의 출력할때만 쓰는게 softmax function!!(총합 1되게끔)"
   ]
  },
  {
   "cell_type": "markdown",
   "id": "52f7bd0b-2970-43ed-bd52-505c029a183b",
   "metadata": {},
   "source": [
    "Global minimum, Local minimum\n",
    "- 우리가 찾은 최솟값이 실제 최솟값이 아닐 수 있음!\n",
    "- 전체 데이터를 활용할지, 데이터를 묶어 사용하던지 하는 방법으로 해결하려고 함\n",
    "- Mini gradient descent >> 거의 얘밖에 안씀!\n",
    "- BGD(정직, shooting이 없음, local 에 빠지면 나오기 힘듬, 한번에 보는 느낌)\n",
    "- SGD(shooting 있음 > global 찾을 가능성 있음, 하나하나 봐서 오래걸림\n",
    "- 속도도 비용임!(좋은 컴퓨터 쓰는 이유가 .. 이거!)"
   ]
  }
 ],
 "metadata": {
  "kernelspec": {
   "display_name": "Python 3 (ipykernel)",
   "language": "python",
   "name": "python3"
  },
  "language_info": {
   "codemirror_mode": {
    "name": "ipython",
    "version": 3
   },
   "file_extension": ".py",
   "mimetype": "text/x-python",
   "name": "python",
   "nbconvert_exporter": "python",
   "pygments_lexer": "ipython3",
   "version": "3.9.13"
  }
 },
 "nbformat": 4,
 "nbformat_minor": 5
}
