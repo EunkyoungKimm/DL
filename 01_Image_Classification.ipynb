{
 "cells": [
  {
   "cell_type": "markdown",
   "id": "a2c258b2-c322-46a1-940b-819645c3e38a",
   "metadata": {},
   "source": [
    "Image Data\n",
    "- 기존에는 이미지를 잘라서 쭉 나열함.(펼침) > 펼치다보니까 모델이 이 이미지를 입체적으로 보지 못함\n",
    "- convolution layer .. 커널..피쳐맵.. >> 입체적으로 보게 됨(피쳐개수가 늘수록 더 입체적으로 봄)\n",
    "- 결국은 펼쳐주긴 해야 됨 >> flatten layer\n",
    "- 결과 보여줄때, 분류할때는 softmax activation function(output layer에서는 이거) / hidden layer에서는 ReLu"
   ]
  },
  {
   "cell_type": "markdown",
   "id": "fb688a4e-005f-4678-b18f-bcff33e75a93",
   "metadata": {
    "tags": []
   },
   "source": [
    "Convolution Neural Network\n",
    "- 층, layer가 깊어질수록 더 많은 정보, 고급 정보\n",
    "- 필터가 많아지면 많아질수록 디테일을 잘 살림\n",
    "- 깊이가 깊어질수록 데이터들을 잘 조합함\n",
    "- convolution kernel이 이동하며 일치하는 곳을 찾음! (convolution연산)\n",
    "- stride(step같은거!) > 1이면 한칸씩 감\n",
    "- CNN에서 여러 종류의 커널이 알아서 만들어짐!(필터 안에 있는 값들도 자동으로 정해진다! 알아서 필터를 찾음!)\n",
    "- 남이 weight가지고 있는걸 가지고 와서 쓰면.. 속도 빠름.. !!!!!!(이거 계산하는데 많은 곱셈.. 연산 하니까..이걸줄여주니까.. 이미 만들어진 모델 쓰면 속도 확 줄음!)"
   ]
  },
  {
   "cell_type": "markdown",
   "id": "6a9321d3-b293-4522-9018-68f6c5e50aa0",
   "metadata": {},
   "source": [
    "Affine = fully connected layer"
   ]
  },
  {
   "cell_type": "markdown",
   "id": "eae954e1-e872-4be7-badb-727941e57a53",
   "metadata": {},
   "source": [
    "Padding\n",
    "- 연산횟수가 늘어남. 가장자리 정보가 덜 소실됨! padding을 활용해서 가장자리 정보를 더 소싨킨다!\n"
   ]
  },
  {
   "cell_type": "markdown",
   "id": "919e6073-d0b6-46b7-9600-6e285e04c784",
   "metadata": {},
   "source": [
    "- 필터의 개수 = 채널!(3x3x10 >> 10) / 3x3은 window size.."
   ]
  },
  {
   "cell_type": "markdown",
   "id": "cba607d1-9da9-4874-8c49-27f1d69f7959",
   "metadata": {},
   "source": [
    "Max Pooling >> 가장 많은 정보를 담아 압축한다!(가장 큰값!)\n",
    "- average pooling도 있는데 max pooling을 제일 많이씀 >> 이미지에서는 맥스를 많이 씀! (색이 가장 강한거.. 그게 가장 특성을 잘 드러내니까!)"
   ]
  },
  {
   "cell_type": "markdown",
   "id": "5509ddb9-09b6-496e-b14c-bf37d9f5ff60",
   "metadata": {},
   "source": [
    "Dropout\n",
    "- 의도적으로 덜 학습시킴 >> 모델의 과적합 방지!(일부 빼고 계산)"
   ]
  },
  {
   "cell_type": "code",
   "execution_count": null,
   "id": "cd4d98a6-488d-49ce-bfb7-4dbc79c84d64",
   "metadata": {},
   "outputs": [],
   "source": [
    "# 딥러닝에서는 tensorflow!\n",
    "# mnist라는 데이터 불러와서 쓸거임!"
   ]
  },
  {
   "cell_type": "code",
   "execution_count": 2,
   "id": "033ec8fb-3517-47e8-9f2b-a3b38d7f1b2e",
   "metadata": {
    "tags": []
   },
   "outputs": [
    {
     "name": "stdout",
     "output_type": "stream",
     "text": [
      "Downloading data from https://storage.googleapis.com/tensorflow/tf-keras-datasets/mnist.npz\n",
      "11490434/11490434 [==============================] - 0s 0us/step\n",
      "(60000, 28, 28)\n",
      "(60000,)\n",
      "(10000, 28, 28)\n",
      "(10000,)\n"
     ]
    }
   ],
   "source": [
    "import tensorflow as tf\n",
    "\n",
    "data = tf.keras.datasets.mnist\n",
    "(X_train, y_train), (X_test, y_test) = data.load_data()\n",
    "\n",
    "print(X_train.shape) # (60000, 28, 28) >> 흑백이미지 60000개가 28x28 로 있음!(뒤에 1이 생략됐으니까 흑백임.)\n",
    "print(y_train.shape)\n",
    "print(X_test.shape)\n",
    "print(y_test.shape)"
   ]
  },
  {
   "cell_type": "code",
   "execution_count": 5,
   "id": "14806deb-60b8-4579-8201-d8cd03dc88f9",
   "metadata": {
    "tags": []
   },
   "outputs": [
    {
     "data": {
      "text/plain": [
       "<matplotlib.image.AxesImage at 0x23af05e0070>"
      ]
     },
     "execution_count": 5,
     "metadata": {},
     "output_type": "execute_result"
    },
    {
     "data": {
      "image/png": "[encoded data removed]",
      "text/plain": [
       "<Figure size 640x480 with 1 Axes>"
      ]
     },
     "metadata": {},
     "output_type": "display_data"
    }
   ],
   "source": [
    "import matplotlib.pyplot as plt\n",
    "\n",
    "plt.imshow(X_train[0], cmap=plt.get_cmap('gray'))"
   ]
  },
  {
   "cell_type": "code",
   "execution_count": 6,
   "id": "f37cfa56-f6c2-4efc-b052-13650a42f89d",
   "metadata": {
    "tags": []
   },
   "outputs": [
    {
     "data": {
      "text/plain": [
       "array([5, 0, 4, ..., 5, 6, 8], dtype=uint8)"
      ]
     },
     "execution_count": 6,
     "metadata": {},
     "output_type": "execute_result"
    }
   ],
   "source": [
    "y_train # 숫자를 맞춰봐야겠다.. >> 숫자가 몇까지있는지를 봐야해! >> 클래스가 몇개인지 궁금해해야 함!"
   ]
  },
  {
   "cell_type": "code",
   "execution_count": 9,
   "id": "2aca2f76-b305-449e-90ce-acebbc32211f",
   "metadata": {
    "tags": []
   },
   "outputs": [
    {
     "data": {
      "text/plain": [
       "array([0, 1, 2, 3, 4, 5, 6, 7, 8, 9], dtype=uint8)"
      ]
     },
     "execution_count": 9,
     "metadata": {},
     "output_type": "execute_result"
    }
   ],
   "source": [
    "import numpy as np\n",
    "np.unique(y_train) # 클래스가 10개임"
   ]
  },
  {
   "cell_type": "markdown",
   "id": "4cc7d51e-015b-4598-b541-9ec0e12106ff",
   "metadata": {},
   "source": [
    "## 데이터 전처리"
   ]
  },
  {
   "cell_type": "code",
   "execution_count": 10,
   "id": "eaf74d6d-d06f-4859-8202-a65407a7eeab",
   "metadata": {
    "tags": []
   },
   "outputs": [],
   "source": [
    "# 정규화 해주려고 ( scaling하는것처럼)\n",
    "X_train = X_train / 255.0\n",
    "X_test = X_test / 255.0"
   ]
  },
  {
   "cell_type": "markdown",
   "id": "1dc7de16-dc6d-4d57-a628-a8ae344f9ab1",
   "metadata": {},
   "source": [
    "# 01. None CNN Model\n",
    "- fully connected layer로 된 모델을 만들어보자!"
   ]
  },
  {
   "cell_type": "code",
   "execution_count": 11,
   "id": "2f9846fb-0db6-4f0a-addd-b0eadd755295",
   "metadata": {
    "tags": []
   },
   "outputs": [],
   "source": [
    "from tensorflow.keras.models import Sequential\n",
    "from tensorflow.keras.layers import Dense, Flatten\n",
    "\n",
    "# 이미지를 convolution쓰지 않고 하려면 어떻게 해야 할까 >> flatten\n",
    "model = Sequential()\n",
    "model.add(Flatten(input_shape=(28,28))) # 28x28이 한줄로 펼쳐짐(2차원>1차원으로!)\n",
    "model.add(Dense(256, activation = 'relu'))\n",
    "model.add(Dense(128, activation = 'relu'))\n",
    "model.add(Dense(64, activation = 'relu'))\n",
    "model.add(Dense(10, activation = 'softmax')) # 이미지를 분류해야 해! > softmax (확률이 나옴 > 제일큰게 그 속성이니까 그거다) / linear은 숫자 하나 나옴.. 분류x 이게 뭔지도 모름ex.83..이게 뭔지모름 // 클래스가 10개니까 10!"
   ]
  },
  {
   "cell_type": "code",
   "execution_count": 12,
   "id": "232a0463-626d-46a5-94b3-41046d5c723c",
   "metadata": {
    "tags": []
   },
   "outputs": [],
   "source": [
    "model.compile(optimizer = 'adam', loss = 'sparse_categorical_crossentropy', metrics=['accuracy']) # 다중분류고 target이 integer니까 SPC"
   ]
  },
  {
   "cell_type": "code",
   "execution_count": 13,
   "id": "d817a6fd-6b38-432e-b049-a910cfe38840",
   "metadata": {
    "tags": []
   },
   "outputs": [
    {
     "name": "stdout",
     "output_type": "stream",
     "text": [
      "Epoch 1/5\n",
      "1875/1875 [==============================] - 3s 1ms/step - loss: 0.2122 - accuracy: 0.9363\n",
      "Epoch 2/5\n",
      "1875/1875 [==============================] - 3s 1ms/step - loss: 0.0892 - accuracy: 0.9723\n",
      "Epoch 3/5\n",
      "1875/1875 [==============================] - 3s 1ms/step - loss: 0.0639 - accuracy: 0.9803\n",
      "Epoch 4/5\n",
      "1875/1875 [==============================] - 3s 1ms/step - loss: 0.0497 - accuracy: 0.9841\n",
      "Epoch 5/5\n",
      "1875/1875 [==============================] - 3s 1ms/step - loss: 0.0405 - accuracy: 0.9868\n"
     ]
    }
   ],
   "source": [
    "history = model.fit(X_train, y_train, epochs=5)"
   ]
  },
  {
   "cell_type": "code",
   "execution_count": 14,
   "id": "b58d39e7-33b8-4f8b-9676-2874aceb51e3",
   "metadata": {
    "tags": []
   },
   "outputs": [
    {
     "name": "stdout",
     "output_type": "stream",
     "text": [
      "313/313 [==============================] - 0s 802us/step - loss: 0.0883 - accuracy: 0.9739\n"
     ]
    },
    {
     "data": {
      "text/plain": [
       "[0.08832821249961853, 0.9739000201225281]"
      ]
     },
     "execution_count": 14,
     "metadata": {},
     "output_type": "execute_result"
    }
   ],
   "source": [
    "# 모델 평가\n",
    "model.evaluate(X_test, y_test) # [loss, accuracy] > 위에서 loss = 'sparse_categorical_crossentropy', metrics=['accuracy'] 이렇게 지정해줘서 이렇게 나오는 거임!"
   ]
  },
  {
   "cell_type": "code",
   "execution_count": 15,
   "id": "d43c5031-c5d1-447a-a06b-dcaa7638e7d1",
   "metadata": {
    "tags": []
   },
   "outputs": [
    {
     "name": "stdout",
     "output_type": "stream",
     "text": [
      "313/313 [==============================] - 0s 699us/step\n"
     ]
    }
   ],
   "source": [
    "# 예측\n",
    "result = model.predict(X_test)"
   ]
  },
  {
   "cell_type": "code",
   "execution_count": 16,
   "id": "2e149816-c6b5-44be-a1cc-4fa96486e92e",
   "metadata": {
    "tags": []
   },
   "outputs": [
    {
     "data": {
      "text/plain": [
       "(10000, 28, 28)"
      ]
     },
     "execution_count": 16,
     "metadata": {},
     "output_type": "execute_result"
    }
   ],
   "source": [
    "X_test.shape # result의 shape은?  (10000, 10) >> layer를 잘 이해할거임!(softmax 확률 10개가 나오는거임! 결과는!)"
   ]
  },
  {
   "cell_type": "code",
   "execution_count": 17,
   "id": "d0eb5e1c-865a-405e-bde4-f2363aacebc4",
   "metadata": {
    "tags": []
   },
   "outputs": [
    {
     "data": {
      "text/plain": [
       "(10000, 10)"
      ]
     },
     "execution_count": 17,
     "metadata": {},
     "output_type": "execute_result"
    }
   ],
   "source": [
    "result.shape"
   ]
  },
  {
   "cell_type": "code",
   "execution_count": 18,
   "id": "4873ddee-ad37-4f92-b45d-71442bd40f54",
   "metadata": {
    "tags": []
   },
   "outputs": [
    {
     "data": {
      "text/plain": [
       "array([2.88690044e-11, 7.24744211e-08, 4.52450664e-08, 9.75690909e-06,\n",
       "       2.61861359e-08, 3.16874460e-09, 1.08469796e-11, 9.99981642e-01,\n",
       "       8.98226418e-08, 8.20010155e-06], dtype=float32)"
      ]
     },
     "execution_count": 18,
     "metadata": {},
     "output_type": "execute_result"
    }
   ],
   "source": [
    "sample = result[0]\n",
    "sample # 제일 높은 값을 찾으면!! 이게 시각화하면 결과 나옴.."
   ]
  },
  {
   "cell_type": "code",
   "execution_count": 23,
   "id": "64811f7f-d6d7-44e8-89da-faaaea11ff60",
   "metadata": {
    "tags": []
   },
   "outputs": [
    {
     "name": "stdout",
     "output_type": "stream",
     "text": [
      "7\n",
      "7\n",
      "AxesImage(size=(28, 28))\n"
     ]
    },
    {
     "data": {
      "image/png": "[encoded data removed]",
      "text/plain": [
       "<Figure size 640x480 with 1 Axes>"
      ]
     },
     "metadata": {},
     "output_type": "display_data"
    }
   ],
   "source": [
    "print(np.argmax(sample)) # 제일 큰값의 인덱스값을 반환 > 예측 결과의 인덱스\n",
    "print(y_test[0]) # 실제\n",
    "print(plt.imshow(X_test[0], cmap=plt.get_cmap('gray'))) # 실제"
   ]
  },
  {
   "cell_type": "code",
   "execution_count": null,
   "id": "16bd2fea-1adf-43fe-a5d6-718bc8e3309c",
   "metadata": {},
   "outputs": [],
   "source": [
    "# 정확도\n",
    "# 0.9868 (train)\n",
    "# 0.9739000201225281 (test)"
   ]
  },
  {
   "cell_type": "code",
   "execution_count": null,
   "id": "3c8de8f1-d535-46f2-be05-81e0777d3538",
   "metadata": {},
   "outputs": [],
   "source": [
    "# 이렇게 하면 숫자를 분류할 수 있는 모델을 만든거임!"
   ]
  },
  {
   "cell_type": "markdown",
   "id": "55310348-f8c4-49fe-ad3f-6689883ea26f",
   "metadata": {},
   "source": [
    "# 02. Flatten Dropout Model"
   ]
  },
  {
   "cell_type": "code",
   "execution_count": 24,
   "id": "0453f9db-7eb3-4a7c-bf20-ccb70020b0b0",
   "metadata": {
    "tags": []
   },
   "outputs": [
    {
     "name": "stdout",
     "output_type": "stream",
     "text": [
      "Epoch 1/5\n",
      "1875/1875 [==============================] - 3s 1ms/step - loss: 0.3165 - accuracy: 0.9065\n",
      "Epoch 2/5\n",
      "1875/1875 [==============================] - 3s 1ms/step - loss: 0.1434 - accuracy: 0.9596\n",
      "Epoch 3/5\n",
      "1875/1875 [==============================] - 3s 1ms/step - loss: 0.1154 - accuracy: 0.9668\n",
      "Epoch 4/5\n",
      "1875/1875 [==============================] - 3s 1ms/step - loss: 0.0944 - accuracy: 0.9724\n",
      "Epoch 5/5\n",
      "1875/1875 [==============================] - 3s 1ms/step - loss: 0.0815 - accuracy: 0.9758\n"
     ]
    }
   ],
   "source": [
    "from tensorflow.keras.models import Sequential\n",
    "from tensorflow.keras.layers import Dense, Flatten, Dropout\n",
    "\n",
    "model = Sequential()\n",
    "model.add(Flatten(input_shape=(28,28)))\n",
    "model.add(Dense(256, activation = 'relu'))\n",
    "model.add(Dropout(0.2))\n",
    "model.add(Dense(128, activation = 'relu'))\n",
    "model.add(Dropout(0.2))\n",
    "model.add(Dense(64, activation = 'relu'))\n",
    "model.add(Dropout(0.2))\n",
    "model.add(Dense(10, activation = 'softmax'))\n",
    "\n",
    "model.compile(optimizer = 'adam', loss = 'sparse_categorical_crossentropy', metrics=['accuracy'])\n",
    "history = model.fit(X_train, y_train, epochs=5)"
   ]
  },
  {
   "cell_type": "code",
   "execution_count": null,
   "id": "9fe2d9e4-3a7d-4f02-9bc6-15b2087ceab0",
   "metadata": {},
   "outputs": [],
   "source": [
    "# 정확도 좀 줄었음 >> 의도적으로 정보를 좀 소실 시켰으니까"
   ]
  },
  {
   "cell_type": "code",
   "execution_count": 25,
   "id": "3599672c-d1d7-43af-8fa3-97cddeb4aef9",
   "metadata": {
    "tags": []
   },
   "outputs": [
    {
     "name": "stdout",
     "output_type": "stream",
     "text": [
      "313/313 [==============================] - 0s 795us/step - loss: 0.0844 - accuracy: 0.9755\n"
     ]
    },
    {
     "data": {
      "text/plain": [
       "[0.08435099571943283, 0.9754999876022339]"
      ]
     },
     "execution_count": 25,
     "metadata": {},
     "output_type": "execute_result"
    }
   ],
   "source": [
    "model.evaluate(X_test, y_test)"
   ]
  },
  {
   "cell_type": "code",
   "execution_count": null,
   "id": "a6fd9ae6-33c2-44cd-b793-cc1297c97256",
   "metadata": {},
   "outputs": [],
   "source": [
    "# Flatten 정확도\n",
    "# 0.9868 (train)\n",
    "# 0.9739000201225281 (test)\n",
    "\n",
    "# Flatten(Dropout) 정확도 >> train, test gap 이 많이 줄었음.. 근데 이경우에는 dropout 안한게 나은듯\n",
    "# 0.9758 (train)\n",
    "# 0.9754999876022339 (test)"
   ]
  },
  {
   "cell_type": "markdown",
   "id": "26a97ae1-63a2-4890-b3b3-e27ce04b2125",
   "metadata": {},
   "source": [
    "# 03. CNN Model"
   ]
  },
  {
   "cell_type": "code",
   "execution_count": 28,
   "id": "71deb061-f858-4a00-9fd1-71597909ccd8",
   "metadata": {
    "tags": []
   },
   "outputs": [],
   "source": [
    "from tensorflow.keras.models import Sequential\n",
    "from tensorflow.keras.layers import Dense, Flatten, Dropout, Conv2D, MaxPooling2D\n",
    "\n",
    "model = Sequential()\n",
    "model.add(Conv2D(64, (3,3), activation = 'relu', input_shape = (28,28,1))) # (3,3)필터사이즈, (28,28,1)3차원 >> conv layer층이 하나 만들어진거임\n",
    "model.add(MaxPooling2D(2,2))\n",
    "model.add(Conv2D(64, (3,3), activation = 'relu'))\n",
    "model.add(MaxPooling2D(2,2))\n",
    "model.add(Flatten()) # flatten한 이후에는 dense!(conv2d아님)\n",
    "model.add(Dense(128, activation='relu'))\n",
    "model.add(Dense(10, activation='softmax'))"
   ]
  },
  {
   "cell_type": "code",
   "execution_count": 29,
   "id": "c50de23a-39a6-4e55-92a0-62a5594501b7",
   "metadata": {
    "tags": []
   },
   "outputs": [
    {
     "name": "stdout",
     "output_type": "stream",
     "text": [
      "Model: \"sequential_4\"\n",
      "_________________________________________________________________\n",
      " Layer (type)                Output Shape              Param #   \n",
      "=================================================================\n",
      " conv2d_2 (Conv2D)           (None, 26, 26, 64)        640       \n",
      "                                                                 \n",
      " max_pooling2d_1 (MaxPooling  (None, 13, 13, 64)       0         \n",
      " 2D)                                                             \n",
      "                                                                 \n",
      " conv2d_3 (Conv2D)           (None, 11, 11, 64)        36928     \n",
      "                                                                 \n",
      " max_pooling2d_2 (MaxPooling  (None, 5, 5, 64)         0         \n",
      " 2D)                                                             \n",
      "                                                                 \n",
      " flatten_2 (Flatten)         (None, 1600)              0         \n",
      "                                                                 \n",
      " dense_8 (Dense)             (None, 128)               204928    \n",
      "                                                                 \n",
      " dense_9 (Dense)             (None, 10)                1290      \n",
      "                                                                 \n",
      "=================================================================\n",
      "Total params: 243,786\n",
      "Trainable params: 243,786\n",
      "Non-trainable params: 0\n",
      "_________________________________________________________________\n"
     ]
    }
   ],
   "source": [
    "model.summary() # 이거 보고 compile 하기!! 적절한지 보고오오!!"
   ]
  },
  {
   "cell_type": "code",
   "execution_count": 28,
   "id": "26ad19e6-24c3-4353-ac05-7f46adea3368",
   "metadata": {
    "tags": []
   },
   "outputs": [
    {
     "name": "stdout",
     "output_type": "stream",
     "text": [
      "Epoch 1/5\n",
      "1875/1875 [==============================] - 19s 10ms/step - loss: 0.1182 - accuracy: 0.9639\n",
      "Epoch 2/5\n",
      "1875/1875 [==============================] - 20s 10ms/step - loss: 0.0399 - accuracy: 0.9876\n",
      "Epoch 3/5\n",
      "1875/1875 [==============================] - 21s 11ms/step - loss: 0.0275 - accuracy: 0.9913\n",
      "Epoch 4/5\n",
      "1875/1875 [==============================] - 21s 11ms/step - loss: 0.0192 - accuracy: 0.9940\n",
      "Epoch 5/5\n",
      "1875/1875 [==============================] - 21s 11ms/step - loss: 0.0148 - accuracy: 0.9953\n"
     ]
    }
   ],
   "source": [
    "model.compile(optimizer = 'adam', loss = 'sparse_categorical_crossentropy', metrics=['accuracy'])\n",
    "history = model.fit(X_train, y_train, epochs=5)"
   ]
  },
  {
   "cell_type": "code",
   "execution_count": 30,
   "id": "63f8f607-7190-4a82-ba3d-8c0c93a7944d",
   "metadata": {
    "tags": []
   },
   "outputs": [
    {
     "name": "stdout",
     "output_type": "stream",
     "text": [
      "313/313 [==============================] - 1s 3ms/step - loss: 0.0360 - accuracy: 0.9896\n"
     ]
    },
    {
     "data": {
      "text/plain": [
       "[0.035985466092824936, 0.9896000027656555]"
      ]
     },
     "execution_count": 30,
     "metadata": {},
     "output_type": "execute_result"
    }
   ],
   "source": [
    "model.evaluate(X_test, y_test)"
   ]
  },
  {
   "cell_type": "code",
   "execution_count": null,
   "id": "6c22df12-ff0a-4a1f-9c79-07a537f5beb7",
   "metadata": {},
   "outputs": [],
   "source": [
    "# Flatten 정확도\n",
    "# 0.9868 (train)\n",
    "# 0.9739 (test)\n",
    "\n",
    "# Flatten(Dropout) 정확도 >> train, test gap 이 많이 줄었음.. 근데 이경우에는 dropout 안한게 나은듯\n",
    "# 0.9758 (train)\n",
    "# 0.9755 (test)\n",
    "\n",
    "# CNN\n",
    "# 0.9953 (train)\n",
    "# 0.9896 (test)\n",
    "# CNN에서 dropou하면 더 좋을수도 있지만 이미 너무 좋아서 굳이..안해도 될듯!"
   ]
  },
  {
   "cell_type": "code",
   "execution_count": null,
   "id": "b73f2d48-121e-4cc2-842e-8aad4bd5c2ef",
   "metadata": {},
   "outputs": [],
   "source": []
  },
  {
   "cell_type": "markdown",
   "id": "732fc825-11e0-4410-9d10-7c28bcb18842",
   "metadata": {},
   "source": [
    "Image Classification\n",
    "- LeNet\n",
    "- AlexNet: 구글에서 만듦 (이렇게 했더니 성능이 또 괜찮더라)\n",
    "- VGG16: 채널 수가 2배씩 증가하게끔.. 변수가 많다..."
   ]
  },
  {
   "cell_type": "markdown",
   "id": "31596980-185a-498e-b3c2-b3b80041fa9f",
   "metadata": {},
   "source": [
    "Data Augmentationi\n",
    "- 오버피팅을 방지하고 데이터를 늘릴 수 있는 방법"
   ]
  },
  {
   "cell_type": "code",
   "execution_count": null,
   "id": "71bbfa17-d272-4af6-bf57-f5640cc00f44",
   "metadata": {},
   "outputs": [],
   "source": []
  },
  {
   "cell_type": "markdown",
   "id": "e1d84110-3bd3-45f6-a97b-6ec523f9cb74",
   "metadata": {},
   "source": [
    "## 복습\n",
    "- layer가 깊으면 깊을수록 고급정보(더 많은 정보)를 가진다.\n",
    "- 여기서부터는 코랩으로.. GPU필요!\n",
    "- CNN: 어떤 필터가 컨벌루션 연산이 되서.. >> 원본 이미지에서 공간을 이해하는 것!\n",
    "- 255에 가까울수록 밝다(컬러는 3개 채널, 그레이(흑백)은 1개 채널)\n",
    "- Affine은 Dense층(완전연결계층 - 3차원을 1차원으로 flatten해야되서 정보 손실이O..데이터 형상이 무너져서.).. 비슷..(얜 Relu) / 마지막엔 (softmax)\n",
    "- CNN에서는 Affine이 conv층(이미지 형상 무너지지x), pooling이 추가됨\n",
    "\n",
    "- Padding: 가장장리 연산의 정보를 덜 버리게 한다(외관 데이터를 0으로 채움)\n",
    "- Stride = step\n",
    "- 3차원 합성곱 연산: 입력의 채널 수와 필터의 채널 수 같아야 한다\n",
    "- Max Pooling: 공간을 압축한다!(정보를 합충한다, 가로세로 방향의 공간을 줄이는 연산) >> 합성곱연산이 아닌 가장 높은 값! 최대풀링으로 값을 채움!(가장 두드러진 선, 색을 뽑아냄)(이미지에서는 최대풀링이 좋다!)\n",
    "- Dropout: 오버피팅 방지, 의도적으로 일부 데이터를 제외시켜 학습시킴(다른 모델 쓸 때도 많이 씀)\n",
    "- cnn vs dropout(오버피팅방지) vs flatten(정보소실): flatten보다 cnn이 공간 이해 잘하고, cnn보다 dropout이 오버피팅방지하니까 결과가 좀 더 좋을듯!"
   ]
  },
  {
   "cell_type": "markdown",
   "id": "24e16286-6c08-4730-bcd1-70c23a603a59",
   "metadata": {},
   "source": [
    "## 복습\n",
    "- 이미 성능이 좋다하는 모델의 구조, 모델 활용(코드, 개발 공유하는 문화 잘 되어있음 >> 오픈소스(검색을 잘해야된다..) >> layer를 구성할때 이런걸 잘 참고하면서 만드는게 굿!(층을 얼마나 쌓고, 깊게할건지..)\n",
    "- data augmentation: 오버피팅을 방지하고 데이터를 늘릴수있는 방법(원본이미지 각도, 색 바꾸기 등)(다양한 상황, 관점, 시점의 데이터를 넣어줌!)"
   ]
  },
  {
   "cell_type": "code",
   "execution_count": null,
   "id": "64aa2807-aad3-4980-baf2-94a1ed911aac",
   "metadata": {},
   "outputs": [],
   "source": []
  },
  {
   "cell_type": "code",
   "execution_count": null,
   "id": "74b7c93b-8562-4709-824c-74e7d809d70b",
   "metadata": {},
   "outputs": [],
   "source": []
  }
 ],
 "metadata": {
  "kernelspec": {
   "display_name": "Python 3 (ipykernel)",
   "language": "python",
   "name": "python3"
  },
  "language_info": {
   "codemirror_mode": {
    "name": "ipython",
    "version": 3
   },
   "file_extension": ".py",
   "mimetype": "text/x-python",
   "name": "python",
   "nbconvert_exporter": "python",
   "pygments_lexer": "ipython3",
   "version": "3.9.13"
  }
 },
 "nbformat": 4,
 "nbformat_minor": 5
}
